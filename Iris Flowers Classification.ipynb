{
 "cells": [
  {
   "cell_type": "markdown",
   "id": "dfd3958a",
   "metadata": {},
   "source": [
    "# Oasis Infobyte - Data Science Internship task 1\n",
    "\n",
    "#### Iris Flower classification ML Project"
   ]
  },
  {
   "cell_type": "markdown",
   "id": "99ff6192",
   "metadata": {},
   "source": [
    "# Steps to build a ML model:\n",
    "\n",
    "1. import dataset\n",
    "2. visualizing the dataset\n",
    "3. Data preparation\n",
    "4. Training the algorithm\n",
    "5. Making Perdiction.\n",
    "6. Model Evolution"
   ]
  },
  {
   "cell_type": "code",
   "execution_count": null,
   "id": "6d008a84",
   "metadata": {},
   "outputs": [],
   "source": []
  }
 ],
 "metadata": {
  "kernelspec": {
   "display_name": "Python 3 (ipykernel)",
   "language": "python",
   "name": "python3"
  },
  "language_info": {
   "codemirror_mode": {
    "name": "ipython",
    "version": 3
   },
   "file_extension": ".py",
   "mimetype": "text/x-python",
   "name": "python",
   "nbconvert_exporter": "python",
   "pygments_lexer": "ipython3",
   "version": "3.9.12"
  }
 },
 "nbformat": 4,
 "nbformat_minor": 5
}
