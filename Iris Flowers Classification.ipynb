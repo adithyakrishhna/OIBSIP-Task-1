{
 "cells": [
  {
   "cell_type": "markdown",
   "id": "330eaa5d",
   "metadata": {},
   "source": [
    "# Oasis Infobyte - Data Science Internship task 1\n",
    "\n",
    "#### Iris Flower classification ML Project"
   ]
  },
  {
   "cell_type": "markdown",
   "id": "587b8f4c",
   "metadata": {},
   "source": [
    "# Steps to build a ML model:\n",
    "\n",
    "1. import dataset\n",
    "2. visualizing the dataset\n",
    "3. Data preparation\n",
    "4. Training the algorithm\n",
    "5. Making Perdiction.\n",
    "6. Model Evolution"
   ]
  },
  {
   "cell_type": "markdown",
   "id": "5f390765",
   "metadata": {},
   "source": [
    "# Importing Libraries"
   ]
  },
  {
   "cell_type": "code",
   "execution_count": 1,
   "id": "ff28abbe",
   "metadata": {},
   "outputs": [],
   "source": [
    "import numpy as np\n",
    "import pandas as pd\n",
    "import matplotlib.pyplot as plt \n",
    "import seaborn as sns\n",
    "from sklearn.model_selection import train_test_split\n",
    "from sklearn.linear_model import LinearRegression\n",
    "from sklearn.metrics import accuracy_score"
   ]
  },
  {
   "cell_type": "code",
   "execution_count": null,
   "id": "bf57a4bc",
   "metadata": {},
   "outputs": [],
   "source": [
    "df=pd.read_csv('Iris.csv')"
   ]
  }
 ],
 "metadata": {
  "kernelspec": {
   "display_name": "Python 3 (ipykernel)",
   "language": "python",
   "name": "python3"
  },
  "language_info": {
   "codemirror_mode": {
    "name": "ipython",
    "version": 3
   },
   "file_extension": ".py",
   "mimetype": "text/x-python",
   "name": "python",
   "nbconvert_exporter": "python",
   "pygments_lexer": "ipython3",
   "version": "3.9.12"
  }
 },
 "nbformat": 4,
 "nbformat_minor": 5
}
